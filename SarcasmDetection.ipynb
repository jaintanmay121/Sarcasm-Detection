{
  "nbformat": 4,
  "nbformat_minor": 0,
  "metadata": {
    "colab": {
      "name": "Untitled11.ipynb",
      "provenance": []
    },
    "kernelspec": {
      "name": "python3",
      "display_name": "Python 3"
    },
    "accelerator": "GPU"
  },
  "cells": [
    {
      "cell_type": "code",
      "metadata": {
        "id": "cbZ7pTPhlnu9",
        "colab_type": "code",
        "colab": {}
      },
      "source": [
        "import json\n",
        "a=[]\n",
        "for f in open('data.json'):\n",
        "    a.append(json.loads(f))"
      ],
      "execution_count": 0,
      "outputs": []
    },
    {
      "cell_type": "code",
      "metadata": {
        "id": "pI6UU0j1l8gF",
        "colab_type": "code",
        "colab": {}
      },
      "source": [
        "headline=[a[i]['headline'] for i in range(len(a))]\n",
        "is_sarcastic=[a[i]['is_sarcastic'] for i in range(len(a))]"
      ],
      "execution_count": 0,
      "outputs": []
    },
    {
      "cell_type": "code",
      "metadata": {
        "id": "W2dsh37rvBBg",
        "colab_type": "code",
        "colab": {
          "base_uri": "https://localhost:8080/",
          "height": 34
        },
        "outputId": "370f9619-8ae9-4315-d590-03a6c1497af0"
      },
      "source": [
        "%tensorflow_version 2.x\n",
        "import tensorflow as tf\n",
        "import numpy as np\n",
        "from tensorflow.keras.preprocessing.text import Tokenizer\n",
        "import pandas as pd"
      ],
      "execution_count": 4,
      "outputs": [
        {
          "output_type": "stream",
          "text": [
            "TensorFlow 2.x selected.\n"
          ],
          "name": "stdout"
        }
      ]
    },
    {
      "cell_type": "code",
      "metadata": {
        "id": "qn5TLyCH1D4O",
        "colab_type": "code",
        "colab": {
          "base_uri": "https://localhost:8080/",
          "height": 204
        },
        "outputId": "234efb1d-eb8b-4b4a-8a81-65e8c4ca1b2f"
      },
      "source": [
        "df=pd.DataFrame({'headline':headline,'is_sarcastic': is_sarcastic})\n",
        "df.head()"
      ],
      "execution_count": 5,
      "outputs": [
        {
          "output_type": "execute_result",
          "data": {
            "text/html": [
              "<div>\n",
              "<style scoped>\n",
              "    .dataframe tbody tr th:only-of-type {\n",
              "        vertical-align: middle;\n",
              "    }\n",
              "\n",
              "    .dataframe tbody tr th {\n",
              "        vertical-align: top;\n",
              "    }\n",
              "\n",
              "    .dataframe thead th {\n",
              "        text-align: right;\n",
              "    }\n",
              "</style>\n",
              "<table border=\"1\" class=\"dataframe\">\n",
              "  <thead>\n",
              "    <tr style=\"text-align: right;\">\n",
              "      <th></th>\n",
              "      <th>headline</th>\n",
              "      <th>is_sarcastic</th>\n",
              "    </tr>\n",
              "  </thead>\n",
              "  <tbody>\n",
              "    <tr>\n",
              "      <th>0</th>\n",
              "      <td>former versace store clerk sues over secret 'b...</td>\n",
              "      <td>0</td>\n",
              "    </tr>\n",
              "    <tr>\n",
              "      <th>1</th>\n",
              "      <td>the 'roseanne' revival catches up to our thorn...</td>\n",
              "      <td>0</td>\n",
              "    </tr>\n",
              "    <tr>\n",
              "      <th>2</th>\n",
              "      <td>mom starting to fear son's web series closest ...</td>\n",
              "      <td>1</td>\n",
              "    </tr>\n",
              "    <tr>\n",
              "      <th>3</th>\n",
              "      <td>boehner just wants wife to listen, not come up...</td>\n",
              "      <td>1</td>\n",
              "    </tr>\n",
              "    <tr>\n",
              "      <th>4</th>\n",
              "      <td>j.k. rowling wishes snape happy birthday in th...</td>\n",
              "      <td>0</td>\n",
              "    </tr>\n",
              "  </tbody>\n",
              "</table>\n",
              "</div>"
            ],
            "text/plain": [
              "                                            headline  is_sarcastic\n",
              "0  former versace store clerk sues over secret 'b...             0\n",
              "1  the 'roseanne' revival catches up to our thorn...             0\n",
              "2  mom starting to fear son's web series closest ...             1\n",
              "3  boehner just wants wife to listen, not come up...             1\n",
              "4  j.k. rowling wishes snape happy birthday in th...             0"
            ]
          },
          "metadata": {
            "tags": []
          },
          "execution_count": 5
        }
      ]
    },
    {
      "cell_type": "code",
      "metadata": {
        "id": "NRFpFAmpp8Dl",
        "colab_type": "code",
        "colab": {}
      },
      "source": [
        "token=Tokenizer()\n",
        "token.fit_on_texts(df.headline)\n",
        "word_index=token.word_index"
      ],
      "execution_count": 0,
      "outputs": []
    },
    {
      "cell_type": "code",
      "metadata": {
        "id": "t7Iz2AXg4_dw",
        "colab_type": "code",
        "colab": {
          "base_uri": "https://localhost:8080/",
          "height": 34
        },
        "outputId": "7f3b0146-b916-4c7e-a2ce-48b39e7bd99e"
      },
      "source": [
        "len(word_index)"
      ],
      "execution_count": 7,
      "outputs": [
        {
          "output_type": "execute_result",
          "data": {
            "text/plain": [
              "29656"
            ]
          },
          "metadata": {
            "tags": []
          },
          "execution_count": 7
        }
      ]
    },
    {
      "cell_type": "code",
      "metadata": {
        "id": "hdP9Z2h00hM4",
        "colab_type": "code",
        "colab": {}
      },
      "source": [
        "def process(s):\n",
        "    return tf.keras.preprocessing.sequence.pad_sequences(token.texts_to_sequences([s]), maxlen=maxlen)"
      ],
      "execution_count": 0,
      "outputs": []
    },
    {
      "cell_type": "code",
      "metadata": {
        "id": "KMVW03T_ta8i",
        "colab_type": "code",
        "colab": {}
      },
      "source": [
        "maxlen=max([len(i.split()) for i in df.headline])"
      ],
      "execution_count": 0,
      "outputs": []
    },
    {
      "cell_type": "code",
      "metadata": {
        "id": "7ZgIEVSv0Vo5",
        "colab_type": "code",
        "colab": {}
      },
      "source": [
        "train_data=process(df.headline)"
      ],
      "execution_count": 0,
      "outputs": []
    },
    {
      "cell_type": "code",
      "metadata": {
        "id": "esKcw3TyqDEg",
        "colab_type": "code",
        "colab": {}
      },
      "source": [
        "total=len(word_index)+1"
      ],
      "execution_count": 0,
      "outputs": []
    },
    {
      "cell_type": "code",
      "metadata": {
        "id": "zW33PaSEsH2c",
        "colab_type": "code",
        "colab": {
          "base_uri": "https://localhost:8080/",
          "height": 357
        },
        "outputId": "4fba33b5-919c-40d3-f376-f15fdf9a2bdb"
      },
      "source": [
        "model = tf.keras.models.Sequential([\n",
        "        tf.keras.layers.Embedding(total, 64, input_length=maxlen),\n",
        "        tf.keras.layers.Bidirectional(tf.keras.layers.LSTM(128)),\n",
        "        tf.keras.layers.Dropout(0.4), \n",
        "        tf.keras.layers.Dense(512, activation='softmax'),\n",
        "        tf.keras.layers.Dropout(0.4), \n",
        "        tf.keras.layers.Dense(2, activation='softmax')\n",
        "])\n",
        "model.compile(loss='sparse_categorical_crossentropy', optimizer='adam', metrics=['accuracy'])\n",
        "model.summary()"
      ],
      "execution_count": 136,
      "outputs": [
        {
          "output_type": "stream",
          "text": [
            "Model: \"sequential_37\"\n",
            "_________________________________________________________________\n",
            "Layer (type)                 Output Shape              Param #   \n",
            "=================================================================\n",
            "embedding_37 (Embedding)     (None, 39, 64)            1898048   \n",
            "_________________________________________________________________\n",
            "bidirectional_34 (Bidirectio (None, 256)               197632    \n",
            "_________________________________________________________________\n",
            "dropout_67 (Dropout)         (None, 256)               0         \n",
            "_________________________________________________________________\n",
            "dense_67 (Dense)             (None, 512)               131584    \n",
            "_________________________________________________________________\n",
            "dropout_68 (Dropout)         (None, 512)               0         \n",
            "_________________________________________________________________\n",
            "dense_68 (Dense)             (None, 2)                 1026      \n",
            "=================================================================\n",
            "Total params: 2,228,290\n",
            "Trainable params: 2,228,290\n",
            "Non-trainable params: 0\n",
            "_________________________________________________________________\n"
          ],
          "name": "stdout"
        }
      ]
    },
    {
      "cell_type": "code",
      "metadata": {
        "id": "jVrtBxBo6bgk",
        "colab_type": "code",
        "colab": {}
      },
      "source": [
        "es=tf.keras.callbacks.EarlyStopping(monitor='accuracy')"
      ],
      "execution_count": 0,
      "outputs": []
    },
    {
      "cell_type": "code",
      "metadata": {
        "id": "Ov5Q2qwmsNFB",
        "colab_type": "code",
        "colab": {
          "base_uri": "https://localhost:8080/",
          "height": 394
        },
        "outputId": "037377cf-fb4b-4345-8071-ceac36393d60"
      },
      "source": [
        "history=model.fit(train_data, df.is_sarcastic, epochs=10, validation_split=0.2, callbacks=[es])"
      ],
      "execution_count": 138,
      "outputs": [
        {
          "output_type": "stream",
          "text": [
            "Train on 21367 samples, validate on 5342 samples\n",
            "Epoch 1/10\n",
            "21367/21367 [==============================] - 32s 1ms/sample - loss: 0.6730 - accuracy: 0.5822 - val_loss: 0.5695 - val_accuracy: 0.7499\n",
            "Epoch 2/10\n",
            "21367/21367 [==============================] - 28s 1ms/sample - loss: 0.6265 - accuracy: 0.6476 - val_loss: 0.6255 - val_accuracy: 0.6638\n",
            "Epoch 3/10\n",
            "21367/21367 [==============================] - 28s 1ms/sample - loss: 0.6058 - accuracy: 0.6620 - val_loss: 0.6217 - val_accuracy: 0.6674\n",
            "Epoch 4/10\n",
            "21367/21367 [==============================] - 28s 1ms/sample - loss: 0.6018 - accuracy: 0.7095 - val_loss: 0.6217 - val_accuracy: 0.6640\n",
            "Epoch 5/10\n",
            "21367/21367 [==============================] - 28s 1ms/sample - loss: 0.5673 - accuracy: 0.7412 - val_loss: 0.4778 - val_accuracy: 0.7991\n",
            "Epoch 6/10\n",
            "21367/21367 [==============================] - 28s 1ms/sample - loss: 0.4113 - accuracy: 0.8600 - val_loss: 0.4322 - val_accuracy: 0.8160\n",
            "Epoch 7/10\n",
            "21367/21367 [==============================] - 28s 1ms/sample - loss: 0.3177 - accuracy: 0.9080 - val_loss: 0.4621 - val_accuracy: 0.8079\n",
            "Epoch 8/10\n",
            "21367/21367 [==============================] - 28s 1ms/sample - loss: 0.2480 - accuracy: 0.9358 - val_loss: 0.4458 - val_accuracy: 0.8396\n",
            "Epoch 9/10\n",
            "21367/21367 [==============================] - 28s 1ms/sample - loss: 0.1855 - accuracy: 0.9523 - val_loss: 0.4503 - val_accuracy: 0.8435\n",
            "Epoch 10/10\n",
            "21367/21367 [==============================] - 28s 1ms/sample - loss: 0.1551 - accuracy: 0.9579 - val_loss: 0.4655 - val_accuracy: 0.8413\n"
          ],
          "name": "stdout"
        }
      ]
    },
    {
      "cell_type": "code",
      "metadata": {
        "id": "FMrk-59vvaJJ",
        "colab_type": "code",
        "colab": {
          "base_uri": "https://localhost:8080/",
          "height": 573
        },
        "outputId": "b5b3736c-e771-4131-e92f-a253f516bca2"
      },
      "source": [
        "import matplotlib.pyplot as plt\n",
        "plt.plot(history.history['accuracy'])\n",
        "plt.plot(history.history['val_accuracy'])\n",
        "plt.title('model accuracy')\n",
        "plt.ylabel('accuracy')\n",
        "plt.xlabel('epoch')\n",
        "plt.legend(['train', 'validation'], loc='upper left')\n",
        "plt.show()\n",
        "\n",
        "plt.plot(history.history['loss'])\n",
        "plt.plot(history.history['val_loss'])\n",
        "plt.title('model loss')\n",
        "plt.ylabel('loss')\n",
        "plt.xlabel('epoch')\n",
        "plt.legend(['train', 'validation'], loc='upper left')\n",
        "plt.show()"
      ],
      "execution_count": 139,
      "outputs": [
        {
          "output_type": "display_data",
          "data": {
            "image/png": "[encoded data removed]",
            "text/plain": [
              "<Figure size 432x288 with 1 Axes>"
            ]
          },
          "metadata": {
            "tags": []
          }
        },
        {
          "output_type": "display_data",
          "data": {
            "image/png": "[encoded data removed]",
            "text/plain": [
              "<Figure size 432x288 with 1 Axes>"
            ]
          },
          "metadata": {
            "tags": []
          }
        }
      ]
    }
  ]
}